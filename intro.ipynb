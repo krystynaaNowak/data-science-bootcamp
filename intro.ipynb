{
  "nbformat": 4,
  "nbformat_minor": 0,
  "metadata": {
    "colab": {
      "provenance": [],
      "authorship_tag": "ABX9TyO9jQtsl7fstIP9Owc3xrQ1",
      "include_colab_link": true
    },
    "kernelspec": {
      "name": "python3",
      "display_name": "Python 3"
    },
    "language_info": {
      "name": "python"
    }
  },
  "cells": [
    {
      "cell_type": "markdown",
      "metadata": {
        "id": "view-in-github",
        "colab_type": "text"
      },
      "source": [
        "<a href=\"https://colab.research.google.com/github/krystynaaNowak/data-science-bootcamp/blob/main/intro.ipynb\" target=\"_parent\"><img src=\"https://colab.research.google.com/assets/colab-badge.svg\" alt=\"Open In Colab\"/></a>"
      ]
    },
    {
      "cell_type": "code",
      "execution_count": 1,
      "metadata": {
        "colab": {
          "base_uri": "https://localhost:8080/"
        },
        "id": "KpQZzGGB8Wu9",
        "outputId": "7cc224af-1959-45df-b5fc-3103c76fd547"
      },
      "outputs": [
        {
          "output_type": "stream",
          "name": "stdout",
          "text": [
            "cos\n"
          ]
        }
      ],
      "source": [
        "print('cos')"
      ]
    },
    {
      "cell_type": "markdown",
      "source": [
        "### *Tekst1*"
      ],
      "metadata": {
        "id": "0axBwNxv81n5"
      }
    },
    {
      "cell_type": "code",
      "source": [],
      "metadata": {
        "id": "s__j1QIz8wUt"
      },
      "execution_count": null,
      "outputs": []
    },
    {
      "cell_type": "markdown",
      "source": [],
      "metadata": {
        "id": "5MQ1C1d89KfQ"
      }
    },
    {
      "cell_type": "code",
      "source": [],
      "metadata": {
        "id": "5g5LqfmH9UMO"
      },
      "execution_count": null,
      "outputs": []
    }
  ]
}